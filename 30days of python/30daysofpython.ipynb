{
 "cells": [
  {
   "cell_type": "code",
   "execution_count": 4,
   "source": [
    "print(\"Kamau\")\r\n",
    "print(\"Kamau\")\r\n",
    "print(\"Kenya\")\r\n",
    "print(\"I am enjoying 30days of python\")"
   ],
   "outputs": [
    {
     "output_type": "stream",
     "name": "stdout",
     "text": [
      "Kamau\n",
      "Kamau\n",
      "Kenya\n",
      "I am enjoying 30days of python\n"
     ]
    }
   ],
   "metadata": {}
  },
  {
   "cell_type": "code",
   "execution_count": 5,
   "source": [
    "print(\"Hello world\")"
   ],
   "outputs": [
    {
     "output_type": "stream",
     "name": "stdout",
     "text": [
      "Hello world\n"
     ]
    }
   ],
   "metadata": {}
  },
  {
   "cell_type": "code",
   "execution_count": 6,
   "source": [
    "#operators\r\n",
    "x = 10\r\n",
    "\r\n",
    "x +=  10\r\n",
    "print(x)\r\n"
   ],
   "outputs": [
    {
     "output_type": "stream",
     "name": "stdout",
     "text": [
      "20\n"
     ]
    }
   ],
   "metadata": {}
  },
  {
   "cell_type": "code",
   "execution_count": 7,
   "source": [
    "from math import pi\r\n",
    "area = pi * 7 * 7\r\n",
    "print(area)"
   ],
   "outputs": [
    {
     "output_type": "stream",
     "name": "stdout",
     "text": [
      "153.93804002589985\n"
     ]
    }
   ],
   "metadata": {}
  },
  {
   "cell_type": "code",
   "execution_count": 8,
   "source": [
    "x = int(input(\"Enter a value:\"))\r\n",
    "print(\"Y =\",x**2 + 6*x + 9)"
   ],
   "outputs": [
    {
     "output_type": "error",
     "ename": "ValueError",
     "evalue": "invalid literal for int() with base 10: ''",
     "traceback": [
      "\u001b[0;31m---------------------------------------------------------------------------\u001b[0m",
      "\u001b[0;31mValueError\u001b[0m                                Traceback (most recent call last)",
      "\u001b[0;32m<ipython-input-8-c47b7a830ff3>\u001b[0m in \u001b[0;36m<module>\u001b[0;34m\u001b[0m\n\u001b[0;32m----> 1\u001b[0;31m \u001b[0mx\u001b[0m \u001b[0;34m=\u001b[0m \u001b[0mint\u001b[0m\u001b[0;34m(\u001b[0m\u001b[0minput\u001b[0m\u001b[0;34m(\u001b[0m\u001b[0;34m\"Enter a value:\"\u001b[0m\u001b[0;34m)\u001b[0m\u001b[0;34m)\u001b[0m\u001b[0;34m\u001b[0m\u001b[0;34m\u001b[0m\u001b[0m\n\u001b[0m\u001b[1;32m      2\u001b[0m \u001b[0mprint\u001b[0m\u001b[0;34m(\u001b[0m\u001b[0;34m\"Y =\"\u001b[0m\u001b[0;34m,\u001b[0m\u001b[0mx\u001b[0m\u001b[0;34m**\u001b[0m\u001b[0;36m2\u001b[0m \u001b[0;34m+\u001b[0m \u001b[0;36m6\u001b[0m\u001b[0;34m*\u001b[0m\u001b[0mx\u001b[0m \u001b[0;34m+\u001b[0m \u001b[0;36m9\u001b[0m\u001b[0;34m)\u001b[0m\u001b[0;34m\u001b[0m\u001b[0;34m\u001b[0m\u001b[0m\n",
      "\u001b[0;31mValueError\u001b[0m: invalid literal for int() with base 10: ''"
     ]
    }
   ],
   "metadata": {}
  },
  {
   "cell_type": "code",
   "execution_count": null,
   "source": [
    "multiline_string = '''I am a teacher and enjoy teaching.\r\n",
    "I didn't find anything as rewarding as empowering people.\r\n",
    "That is why I created 30 days of python.'''\r\n",
    "print(multiline_string)\r\n",
    "# Another way of doing the same thing\r\n",
    "multiline_string = \"\"\"I am a teacher and enjoy teaching.\r\n",
    "I didn't find anything as rewarding as empowering people.\r\n",
    "That is why I created 30 days of python.\"\"\"\r\n",
    "print(multiline_string)\r\n"
   ],
   "outputs": [
    {
     "output_type": "stream",
     "name": "stdout",
     "text": [
      "I am a teacher and enjoy teaching.\n",
      "I didn't find anything as rewarding as empowering people.\n",
      "That is why I created 30 days of python.\n",
      "I am a teacher and enjoy teaching.\n",
      "I didn't find anything as rewarding as empowering people.\n",
      "That is why I created 30 days of python.\n"
     ]
    }
   ],
   "metadata": {}
  },
  {
   "cell_type": "code",
   "execution_count": null,
   "source": [
    "print('I hope everyone is enjoying the Python Challenge.\\nAre you ?') # line break\r\n",
    "print('Days\\tTopics\\tExercises')\r\n",
    "print('Day 1\\t3\\t5')\r\n",
    "print('Day 2\\t3\\t5')\r\n",
    "print('Day 3\\t3\\t5')\r\n",
    "print('Day 4\\t3\\t5')\r\n",
    "print('This is a backslash  symbol (\\)') # To write a backslash\r\n",
    "print('In every programming language it starts with \\\"Hello, World!\\\"')\r\n",
    "\r\n"
   ],
   "outputs": [
    {
     "output_type": "stream",
     "name": "stdout",
     "text": [
      "I hope everyone is enjoying the Python Challenge.\n",
      "Are you ?\n",
      "Days\tTopics\tExercises\n",
      "Day 1\t3\t5\n",
      "Day 2\t3\t5\n",
      "Day 3\t3\t5\n",
      "Day 4\t3\t5\n",
      "This is a backslash  symbol (\\)\n",
      "In every programming language it starts with \"Hello, World!\"\n"
     ]
    }
   ],
   "metadata": {}
  },
  {
   "cell_type": "markdown",
   "source": [
    "String Formating"
   ],
   "metadata": {}
  },
  {
   "cell_type": "code",
   "execution_count": 10,
   "source": [
    "\r\n",
    "first_name = 'Asabeneh'\r\n",
    "last_name = 'Yetayeh'\r\n",
    "language = 'Python'\r\n",
    "formated_string = 'I am {} {}. I teach {}'.format(first_name, last_name, language)\r\n",
    "print(formated_string)\r\n",
    "a = 4\r\n",
    "b = 3\r\n",
    "\r\n",
    "print('{} + {} = {}'.format(a, b, a + b))\r\n",
    "print('{} - {} = {}'.format(a, b, a - b))\r\n",
    "print('{} * {} = {}'.format(a, b, a * b))\r\n",
    "print('{} / {} = {:.2f}'.format(a, b, a / b)) # limits it to two digits after decimal\r\n",
    "print('{} % {} = {}'.format(a, b, a % b))\r\n",
    "print('{} // {} = {}'.format(a, b, a // b))\r\n",
    "print('{} ** {} = {}'.format(a, b, a ** b))\r\n",
    "\r\n",
    "# Strings  and numbers\r\n",
    "radius = 10\r\n",
    "pi = 3.14\r\n",
    "area = pi * radius ** 2\r\n",
    "formated_string = 'The area of a cricle with a radius {} is {:.2f}.'.format(radius, area) # 2 digits after decimal\r\n",
    "print(formated_string)\r\n",
    "\r\n"
   ],
   "outputs": [
    {
     "output_type": "stream",
     "name": "stdout",
     "text": [
      "I am Asabeneh Yetayeh. I teach Python\n",
      "4 + 3 = 7\n",
      "4 - 3 = 1\n",
      "4 * 3 = 12\n",
      "4 / 3 = 1.33\n",
      "4 % 3 = 1\n",
      "4 // 3 = 1\n",
      "4 ** 3 = 64\n",
      "The area of a cricle with a radius 10 is 314.00.\n"
     ]
    }
   ],
   "metadata": {}
  },
  {
   "cell_type": "code",
   "execution_count": 11,
   "source": [
    "\"\"\"\r\n",
    "Another new string formating is string interpolation, f-strings.\r\n",
    "Strings start with f and we can inject the data in their corresponding positions.\r\n",
    "\"\"\"\r\n",
    "a = 4\r\n",
    "b = 3\r\n",
    "print(f'{a} + {b} = {a +b}')\r\n",
    "print(f'{a} - {b} = {a - b}')\r\n",
    "print(f'{a} * {b} = {a * b}')\r\n",
    "print(f'{a} / {b} = {a / b:.2f}')\r\n",
    "print(f'{a} % {b} = {a % b}')\r\n",
    "print(f'{a} // {b} = {a // b}')\r\n",
    "print(f'{a} ** {b} = {a ** b}')\r\n"
   ],
   "outputs": [
    {
     "output_type": "stream",
     "name": "stdout",
     "text": [
      "4 + 3 = 7\n",
      "4 - 3 = 1\n",
      "4 * 3 = 12\n",
      "4 / 3 = 1.33\n",
      "4 % 3 = 1\n",
      "4 // 3 = 1\n",
      "4 ** 3 = 64\n"
     ]
    }
   ],
   "metadata": {}
  },
  {
   "cell_type": "code",
   "execution_count": 12,
   "source": [
    "language = 'Python'\r\n",
    "a,b,c,d,e,f = language # unpacking sequence characters into variables\r\n",
    "print(a) # P\r\n",
    "print(b) # y\r\n",
    "print(c) # t\r\n",
    "print(d) # h\r\n",
    "print(e) # o\r\n",
    "print(f) # n\r\n"
   ],
   "outputs": [
    {
     "output_type": "stream",
     "name": "stdout",
     "text": [
      "P\n",
      "y\n",
      "t\n",
      "h\n",
      "o\n",
      "n\n"
     ]
    }
   ],
   "metadata": {}
  },
  {
   "cell_type": "code",
   "execution_count": 13,
   "source": [
    "greeting = 'Hello, World!'\r\n",
    "print(greeting[::-1]) # !dlroW ,olleH\r\n"
   ],
   "outputs": [
    {
     "output_type": "stream",
     "name": "stdout",
     "text": [
      "!dlroW ,olleH\n"
     ]
    }
   ],
   "metadata": {}
  },
  {
   "cell_type": "code",
   "execution_count": 14,
   "source": [
    "challenge = 'thirty days of python'\r\n",
    "print(challenge.capitalize()) # 'Thirty days of python'\r\n"
   ],
   "outputs": [
    {
     "output_type": "stream",
     "name": "stdout",
     "text": [
      "Thirty days of python\n"
     ]
    }
   ],
   "metadata": {}
  },
  {
   "cell_type": "code",
   "execution_count": 16,
   "source": [
    "\"30five\".isidentifier()"
   ],
   "outputs": [
    {
     "output_type": "execute_result",
     "data": {
      "text/plain": [
       "False"
      ]
     },
     "metadata": {},
     "execution_count": 16
    }
   ],
   "metadata": {}
  },
  {
   "cell_type": "code",
   "execution_count": 19,
   "source": [
    "web_tech = ['HTML', 'CSS', 'JavaScript', 'React']\r\n",
    "result = '.'.join(web_tech)\r\n",
    "print(result) # 'HTML# CSS# JavaScript# React'\r\n"
   ],
   "outputs": [
    {
     "output_type": "stream",
     "name": "stdout",
     "text": [
      "HTML.CSS.JavaScript.React\n"
     ]
    }
   ],
   "metadata": {}
  },
  {
   "cell_type": "code",
   "execution_count": 23,
   "source": [
    "challenge = 'thirty days of pythoonnn'\r\n",
    "print(challenge.strip('t')) # 'irty days of py'\r\n"
   ],
   "outputs": [
    {
     "output_type": "stream",
     "name": "stdout",
     "text": [
      "hirty days of pythoonnn\n"
     ]
    }
   ],
   "metadata": {}
  },
  {
   "cell_type": "code",
   "execution_count": 1,
   "source": [
    "countries = ['Germany', 'France','Belgium','Sweden','Denmark','Finland','Norway','Iceland','Estonia']\r\n",
    "gr, fr, bg, sw, *scandic, es = countries\r\n",
    "print(gr)\r\n",
    "print(fr)\r\n",
    "print(bg)\r\n",
    "print(sw)\r\n",
    "print(scandic)\r\n",
    "print(es)"
   ],
   "outputs": [
    {
     "output_type": "stream",
     "name": "stdout",
     "text": [
      "Germany\n",
      "France\n",
      "Belgium\n",
      "Sweden\n",
      "['Denmark', 'Finland', 'Norway', 'Iceland']\n",
      "Estonia\n"
     ]
    }
   ],
   "metadata": {}
  },
  {
   "cell_type": "code",
   "execution_count": 4,
   "source": [
    "fruits = ['banana', 'orange', 'mango', 'lemon']\r\n",
    "all_fruits = fruits[-4:] # it returns all the fruits\r\n",
    "orange_and_mango = fruits[-3:-1] # it does not include the last index,['orange', 'mango']\r\n",
    "orange_mango_lemon = fruits[-3:] # this will give starting from -3 to the end,['orange', 'mango', 'lemon']\r\n",
    "reverse_fruits = fruits[::-1] # a negative step will take the list in reverse order,['lemon', 'mango', 'orange', 'banana']\r\n",
    "print(all_fruits)\r\n"
   ],
   "outputs": [],
   "metadata": {}
  }
 ],
 "metadata": {
  "interpreter": {
   "hash": "9404e0a3622c515035facf5bf3f7090002186adc3d91d7381884d4e044145a55"
  },
  "kernelspec": {
   "name": "python3",
   "display_name": "Python 3.9.5 64-bit"
  },
  "language_info": {
   "codemirror_mode": {
    "name": "ipython",
    "version": 3
   },
   "file_extension": ".py",
   "mimetype": "text/x-python",
   "name": "python",
   "nbconvert_exporter": "python",
   "pygments_lexer": "ipython3",
   "version": "3.9.5"
  },
  "orig_nbformat": 4
 },
 "nbformat": 4,
 "nbformat_minor": 2
}